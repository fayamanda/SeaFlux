{
 "cells": [
  {
   "cell_type": "code",
   "execution_count": 1,
   "metadata": {},
   "outputs": [
    {
     "name": "stdout",
     "output_type": "stream",
     "text": [
      "Populating the interactive namespace from numpy and matplotlib\n"
     ]
    }
   ],
   "source": [
    "%load_ext autoreload\n",
    "%pylab inline\n",
    "\n",
    "import sys\n",
    "sys.path.insert(0, '../')\n",
    "\n",
    "import pandas as pd\n",
    "import seaflux as sf\n",
    "\n",
    "%autoreload 2"
   ]
  },
  {
   "cell_type": "markdown",
   "metadata": {},
   "source": [
    "# Overview"
   ]
  },
  {
   "cell_type": "markdown",
   "metadata": {},
   "source": [
    "The limit checker is a wrapper function that checks the input of arguments.  \n",
    "The arguments for the function and the kwargs in the unit checker must match.   \n",
    "\n",
    "The function will return a new type that behaves like a `numpy.ndarray`, with the exception that masks are only ornamental.  \n",
    "This means that arithmetic and ufuncs are applied to the masked data.  \n",
    "This is different to masked_arrays which do not apply arithmetic and functions to the masked data, thus the user can still view the processed \"bad\" outputs\n",
    "\n",
    "There is an meta-data additional element to the output. The examples below show the behaviour of this new class"
   ]
  },
  {
   "cell_type": "markdown",
   "metadata": {},
   "source": [
    "This is still very buggy and needs a lot of tests, but I feel this will be a useful tool for different applications where a variable range sanity check should be performed (basically all of science)!"
   ]
  },
  {
   "cell_type": "markdown",
   "metadata": {},
   "source": [
    "# Simple example"
   ]
  },
  {
   "cell_type": "code",
   "execution_count": 95,
   "metadata": {},
   "outputs": [],
   "source": [
    "@sf.unit_checks.check_limits(a=[5, 10], b=[3, 8])\n",
    "def add(a, b):\n",
    "    return a+b"
   ]
  },
  {
   "cell_type": "code",
   "execution_count": 96,
   "metadata": {},
   "outputs": [
    {
     "data": {
      "text/plain": [
       "meta_array(data=[10, --, --],\n",
       "           mask=[False,  True,  True],\n",
       "           meta=['', 'add: a < 5; ', 'add: b > 8; '],\n",
       "     fill_value=999999)"
      ]
     },
     "execution_count": 96,
     "metadata": {},
     "output_type": "execute_result"
    }
   ],
   "source": [
    "a = add([6, 3, 5], [4, 3, 9])\n",
    "a"
   ]
  },
  {
   "cell_type": "code",
   "execution_count": 97,
   "metadata": {},
   "outputs": [
    {
     "data": {
      "text/plain": [
       "array([10,  6, 14])"
      ]
     },
     "execution_count": 97,
     "metadata": {},
     "output_type": "execute_result"
    }
   ],
   "source": [
    "a.data"
   ]
  },
  {
   "cell_type": "code",
   "execution_count": 98,
   "metadata": {},
   "outputs": [
    {
     "data": {
      "text/plain": [
       "array([False,  True,  True])"
      ]
     },
     "execution_count": 98,
     "metadata": {},
     "output_type": "execute_result"
    }
   ],
   "source": [
    "a.mask"
   ]
  },
  {
   "cell_type": "code",
   "execution_count": 99,
   "metadata": {},
   "outputs": [
    {
     "data": {
      "text/plain": [
       "array(['', 'add: a < 5; ', 'add: b > 8; '], dtype=object)"
      ]
     },
     "execution_count": 99,
     "metadata": {},
     "output_type": "execute_result"
    }
   ],
   "source": [
    "a.meta"
   ]
  },
  {
   "cell_type": "code",
   "execution_count": 100,
   "metadata": {},
   "outputs": [
    {
     "data": {
      "text/html": [
       "<div>\n",
       "<style scoped>\n",
       "    .dataframe tbody tr th:only-of-type {\n",
       "        vertical-align: middle;\n",
       "    }\n",
       "\n",
       "    .dataframe tbody tr th {\n",
       "        vertical-align: top;\n",
       "    }\n",
       "\n",
       "    .dataframe thead th {\n",
       "        text-align: right;\n",
       "    }\n",
       "</style>\n",
       "<table border=\"1\" class=\"dataframe\">\n",
       "  <thead>\n",
       "    <tr style=\"text-align: right;\">\n",
       "      <th></th>\n",
       "      <th>data</th>\n",
       "      <th>mask</th>\n",
       "      <th>meta</th>\n",
       "    </tr>\n",
       "  </thead>\n",
       "  <tbody>\n",
       "    <tr>\n",
       "      <th>0</th>\n",
       "      <td>10</td>\n",
       "      <td>False</td>\n",
       "      <td></td>\n",
       "    </tr>\n",
       "    <tr>\n",
       "      <th>1</th>\n",
       "      <td>6</td>\n",
       "      <td>True</td>\n",
       "      <td>add: a &lt; 5;</td>\n",
       "    </tr>\n",
       "    <tr>\n",
       "      <th>2</th>\n",
       "      <td>14</td>\n",
       "      <td>True</td>\n",
       "      <td>add: b &gt; 8;</td>\n",
       "    </tr>\n",
       "  </tbody>\n",
       "</table>\n",
       "</div>"
      ],
      "text/plain": [
       "   data   mask          meta\n",
       "0    10  False              \n",
       "1     6   True  add: a < 5; \n",
       "2    14   True  add: b > 8; "
      ]
     },
     "execution_count": 100,
     "metadata": {},
     "output_type": "execute_result"
    }
   ],
   "source": [
    "pd.DataFrame(a.to_dict())"
   ]
  },
  {
   "cell_type": "markdown",
   "metadata": {},
   "source": [
    "## Mask Behaviour\n",
    "Operations are not masked by the mask (different to `numpy.masked_arrays`)"
   ]
  },
  {
   "cell_type": "code",
   "execution_count": 102,
   "metadata": {},
   "outputs": [
    {
     "data": {
      "text/plain": [
       "meta_array(data=[13, --, --],\n",
       "           mask=[False,  True,  True],\n",
       "           meta=['', 'add: a < 5; ', 'add: b > 8; '],\n",
       "     fill_value=999999)"
      ]
     },
     "execution_count": 102,
     "metadata": {},
     "output_type": "execute_result"
    }
   ],
   "source": [
    "a + 3"
   ]
  },
  {
   "cell_type": "code",
   "execution_count": 103,
   "metadata": {},
   "outputs": [
    {
     "data": {
      "text/plain": [
       "array([13,  9, 17])"
      ]
     },
     "execution_count": 103,
     "metadata": {},
     "output_type": "execute_result"
    }
   ],
   "source": [
    "(a + 3).data"
   ]
  },
  {
   "cell_type": "code",
   "execution_count": 104,
   "metadata": {},
   "outputs": [
    {
     "data": {
      "text/plain": [
       "array([13,  6, 14])"
      ]
     },
     "execution_count": 104,
     "metadata": {},
     "output_type": "execute_result"
    }
   ],
   "source": [
    "(a.view(ma.masked_array) + 3).data"
   ]
  },
  {
   "cell_type": "markdown",
   "metadata": {},
   "source": [
    "## Meta behaviour\n",
    "Meta data are added when any operation is performed.  \n",
    "Slight bug in that duplicates are not removed"
   ]
  },
  {
   "cell_type": "code",
   "execution_count": 118,
   "metadata": {},
   "outputs": [
    {
     "data": {
      "text/plain": [
       "meta_array(data=[13, --, 11],\n",
       "           mask=[False,  True, False],\n",
       "           meta=['', 'add: a < 5; add: b < 3; ', ''],\n",
       "     fill_value=999999)"
      ]
     },
     "execution_count": 118,
     "metadata": {},
     "output_type": "execute_result"
    }
   ],
   "source": [
    "b = add([8, 3, 5], [5, 2, 6])\n",
    "b"
   ]
  },
  {
   "cell_type": "code",
   "execution_count": 119,
   "metadata": {},
   "outputs": [
    {
     "data": {
      "text/plain": [
       "meta_array(data=[130, --, --],\n",
       "           mask=[False,  True,  True],\n",
       "           meta=['', 'add: a < 5; add: b < 3; add: a < 5; ',\n",
       "                 'add: b > 8; '],\n",
       "     fill_value=999999)"
      ]
     },
     "execution_count": 119,
     "metadata": {},
     "output_type": "execute_result"
    }
   ],
   "source": [
    "a * b"
   ]
  },
  {
   "cell_type": "markdown",
   "metadata": {},
   "source": [
    "# Seaflux example"
   ]
  },
  {
   "cell_type": "code",
   "execution_count": 120,
   "metadata": {},
   "outputs": [
    {
     "data": {
      "text/plain": [
       "meta_array(data=[46.68377573273359, --, 85.22136749260231,\n",
       "                 500.83063909683716, --, 82.1118217718081, --, --, --,\n",
       "                 246.65664858060794],\n",
       "           mask=[False,  True, False, False,  True, False,  True,  True,\n",
       "                  True, False],\n",
       "           meta=['', 'fCO2_to_pCO2: pres_hPa > 1200; ', '', '',\n",
       "                 'virial_coeff: temp_K < 271.15; fCO2_to_pCO2: tempSW_C < -2; ',\n",
       "                 '', 'virial_coeff: xCO2_mol < 5e-05; ',\n",
       "                 'virial_coeff: temp_K < 271.15; fCO2_to_pCO2: tempSW_C < -2; ',\n",
       "                 'virial_coeff: xCO2_mol < 5e-05; ', ''],\n",
       "     fill_value=1e+20)"
      ]
     },
     "execution_count": 120,
     "metadata": {},
     "output_type": "execute_result"
    }
   ],
   "source": [
    "n = 10\n",
    "fco2 = np.random.normal(200, 100, size=10)\n",
    "sst = np.random.normal(10, 10, size=10)\n",
    "pres = np.random.normal(1000, 150, size=10)\n",
    "\n",
    "output = sf.fCO2_to_pCO2(fco2, sst, pres)\n",
    "\n",
    "output"
   ]
  },
  {
   "cell_type": "code",
   "execution_count": 121,
   "metadata": {},
   "outputs": [
    {
     "data": {
      "text/html": [
       "<div>\n",
       "<style scoped>\n",
       "    .dataframe tbody tr th:only-of-type {\n",
       "        vertical-align: middle;\n",
       "    }\n",
       "\n",
       "    .dataframe tbody tr th {\n",
       "        vertical-align: top;\n",
       "    }\n",
       "\n",
       "    .dataframe thead th {\n",
       "        text-align: right;\n",
       "    }\n",
       "</style>\n",
       "<table border=\"1\" class=\"dataframe\">\n",
       "  <thead>\n",
       "    <tr style=\"text-align: right;\">\n",
       "      <th></th>\n",
       "      <th>data</th>\n",
       "      <th>mask</th>\n",
       "      <th>meta</th>\n",
       "    </tr>\n",
       "  </thead>\n",
       "  <tbody>\n",
       "    <tr>\n",
       "      <th>0</th>\n",
       "      <td>46.683776</td>\n",
       "      <td>False</td>\n",
       "      <td></td>\n",
       "    </tr>\n",
       "    <tr>\n",
       "      <th>1</th>\n",
       "      <td>232.469170</td>\n",
       "      <td>True</td>\n",
       "      <td>fCO2_to_pCO2: pres_hPa &gt; 1200;</td>\n",
       "    </tr>\n",
       "    <tr>\n",
       "      <th>2</th>\n",
       "      <td>85.221367</td>\n",
       "      <td>False</td>\n",
       "      <td></td>\n",
       "    </tr>\n",
       "    <tr>\n",
       "      <th>3</th>\n",
       "      <td>500.830639</td>\n",
       "      <td>False</td>\n",
       "      <td></td>\n",
       "    </tr>\n",
       "    <tr>\n",
       "      <th>4</th>\n",
       "      <td>266.470041</td>\n",
       "      <td>True</td>\n",
       "      <td>virial_coeff: temp_K &lt; 271.15; fCO2_to_pCO2: t...</td>\n",
       "    </tr>\n",
       "    <tr>\n",
       "      <th>5</th>\n",
       "      <td>82.111822</td>\n",
       "      <td>False</td>\n",
       "      <td></td>\n",
       "    </tr>\n",
       "    <tr>\n",
       "      <th>6</th>\n",
       "      <td>44.023839</td>\n",
       "      <td>True</td>\n",
       "      <td>virial_coeff: xCO2_mol &lt; 5e-05;</td>\n",
       "    </tr>\n",
       "    <tr>\n",
       "      <th>7</th>\n",
       "      <td>312.971045</td>\n",
       "      <td>True</td>\n",
       "      <td>virial_coeff: temp_K &lt; 271.15; fCO2_to_pCO2: t...</td>\n",
       "    </tr>\n",
       "    <tr>\n",
       "      <th>8</th>\n",
       "      <td>20.030579</td>\n",
       "      <td>True</td>\n",
       "      <td>virial_coeff: xCO2_mol &lt; 5e-05;</td>\n",
       "    </tr>\n",
       "    <tr>\n",
       "      <th>9</th>\n",
       "      <td>246.656649</td>\n",
       "      <td>False</td>\n",
       "      <td></td>\n",
       "    </tr>\n",
       "  </tbody>\n",
       "</table>\n",
       "</div>"
      ],
      "text/plain": [
       "         data   mask                                               meta\n",
       "0   46.683776  False                                                   \n",
       "1  232.469170   True                    fCO2_to_pCO2: pres_hPa > 1200; \n",
       "2   85.221367  False                                                   \n",
       "3  500.830639  False                                                   \n",
       "4  266.470041   True  virial_coeff: temp_K < 271.15; fCO2_to_pCO2: t...\n",
       "5   82.111822  False                                                   \n",
       "6   44.023839   True                   virial_coeff: xCO2_mol < 5e-05; \n",
       "7  312.971045   True  virial_coeff: temp_K < 271.15; fCO2_to_pCO2: t...\n",
       "8   20.030579   True                   virial_coeff: xCO2_mol < 5e-05; \n",
       "9  246.656649  False                                                   "
      ]
     },
     "execution_count": 121,
     "metadata": {},
     "output_type": "execute_result"
    }
   ],
   "source": [
    "pd.DataFrame(output.to_dict())"
   ]
  },
  {
   "cell_type": "code",
   "execution_count": null,
   "metadata": {},
   "outputs": [],
   "source": []
  }
 ],
 "metadata": {
  "kernelspec": {
   "display_name": "Python 3",
   "language": "python",
   "name": "python3"
  },
  "language_info": {
   "codemirror_mode": {
    "name": "ipython",
    "version": 3
   },
   "file_extension": ".py",
   "mimetype": "text/x-python",
   "name": "python",
   "nbconvert_exporter": "python",
   "pygments_lexer": "ipython3",
   "version": "3.7.6"
  }
 },
 "nbformat": 4,
 "nbformat_minor": 4
}
