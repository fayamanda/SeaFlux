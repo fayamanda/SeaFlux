{
 "cells": [
  {
   "cell_type": "code",
   "execution_count": 1,
   "metadata": {},
   "outputs": [
    {
     "name": "stdout",
     "output_type": "stream",
     "text": [
      "Populating the interactive namespace from numpy and matplotlib\n"
     ]
    }
   ],
   "source": [
    "%load_ext autoreload\n",
    "%pylab inline\n",
    "\n",
    "import sys\n",
    "sys.path.insert(0, '../')\n",
    "\n",
    "import pandas as pd\n",
    "import seaflux as sf\n",
    "\n",
    "%autoreload 2"
   ]
  },
  {
   "cell_type": "code",
   "execution_count": 91,
   "metadata": {},
   "outputs": [],
   "source": [
    "n = 10\n",
    "fco2 = np.random.normal(200, 100, size=10)\n",
    "sst = np.random.normal(10, 10, size=10)\n",
    "pres = np.random.normal(1000, 100, size=10)\n"
   ]
  },
  {
   "cell_type": "code",
   "execution_count": 92,
   "metadata": {},
   "outputs": [],
   "source": [
    "output = sf.fCO2_to_pCO2(fco2, sst, pres)"
   ]
  },
  {
   "cell_type": "code",
   "execution_count": 93,
   "metadata": {},
   "outputs": [
    {
     "data": {
      "text/plain": [
       "meta_array(data=[246.39066313967302, 202.98204381013448,\n",
       "                 229.45034143542193, --, 138.8508622259591,\n",
       "                 95.07897360196264, --, 284.51034901953824,\n",
       "                 213.5559279191574, 248.22007716994221],\n",
       "           mask=[False, False, False,  True, False, False,  True, False,\n",
       "                 False, False],\n",
       "           meta=['', '', '', 'fCO2_to_pCO2: tempSW_C < -2; ', '', '',\n",
       "                 'fCO2_to_pCO2: tempSW_C < -2; ', '', '', ''],\n",
       "     fill_value=1e+20)"
      ]
     },
     "execution_count": 93,
     "metadata": {},
     "output_type": "execute_result"
    }
   ],
   "source": [
    "output"
   ]
  },
  {
   "cell_type": "code",
   "execution_count": 89,
   "metadata": {},
   "outputs": [],
   "source": [
    "@sf.unit_checks.check_limits(a=[5, 10])\n",
    "def test(a, b):\n",
    "    return a+b"
   ]
  },
  {
   "cell_type": "code",
   "execution_count": null,
   "metadata": {},
   "outputs": [],
   "source": []
  }
 ],
 "metadata": {
  "kernelspec": {
   "display_name": "Python 3",
   "language": "python",
   "name": "python3"
  },
  "language_info": {
   "codemirror_mode": {
    "name": "ipython",
    "version": 3
   },
   "file_extension": ".py",
   "mimetype": "text/x-python",
   "name": "python",
   "nbconvert_exporter": "python",
   "pygments_lexer": "ipython3",
   "version": "3.7.6"
  }
 },
 "nbformat": 4,
 "nbformat_minor": 4
}
